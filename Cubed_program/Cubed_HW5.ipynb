{
 "cells": [
  {
   "cell_type": "code",
   "execution_count": 1,
   "metadata": {
    "collapsed": true
   },
   "outputs": [],
   "source": [
    "# This is the comp_power function given in HW5\n",
    "def comp_power(x, y):\n",
    "    value = x**y\n",
    "    return value\n",
    "\n",
    "def cube(x):\n",
    "    '''Function takes in a value of x and uses the comp_power function to find the cubed root of that value'''\n",
    "    z=comp_power(x,3)\n",
    "    return z"
   ]
  },
  {
   "cell_type": "code",
   "execution_count": 2,
   "metadata": {},
   "outputs": [],
   "source": [
    "fi=[] #initialize list for input file\n",
    "fo=[] #initialize list for output file\n",
    "\n",
    "'''Open the input file'''\n",
    "for line in open('input.txt'): \n",
    "    fi.append(float(line.rstrip('\\n')))\n",
    "\n",
    "'''Cube each value in the input file'''\n",
    "for i in fi:\n",
    "    fo.append(cube(i))\n",
    "\n",
    "'''Save the cubed values from the input file as a new \"cubed.txt\" file'''\n",
    "with open(\"cubed.txt\", \"w\") as output:\n",
    "    for i in fo:\n",
    "        output.write(str(float(i))+'\\n')"
   ]
  }
 ],
 "metadata": {
  "kernelspec": {
   "display_name": "Python 3",
   "language": "python",
   "name": "python3"
  },
  "language_info": {
   "codemirror_mode": {
    "name": "ipython",
    "version": 3
   },
   "file_extension": ".py",
   "mimetype": "text/x-python",
   "name": "python",
   "nbconvert_exporter": "python",
   "pygments_lexer": "ipython3",
   "version": "3.6.1"
  }
 },
 "nbformat": 4,
 "nbformat_minor": 2
}
